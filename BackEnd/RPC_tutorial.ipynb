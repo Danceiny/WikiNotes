{
  "cells": [
    {
      "cell_type": "markdown",
      "metadata": {
        "pycharm": {
          "metadata": false
        },
        "slideshow": {
          "slide_type": "slide"
        }
      },
      "source": [
        "\n",
        "## 1 定义\n",
        "RPC 的全称是 Remote Procedure Call 是一种进程间通信方式。 它允许程序调用另一个地址空间（通常是共享网络的另一台机器上）的过程或函数，而不用程序员显式编码这个远程调用的细节。\n"
      ]
    },
    {
      "cell_type": "markdown",
      "metadata": {
        "pycharm": {
          "metadata": false
        },
        "slideshow": {
          "slide_type": "fragment"
        }
      },
      "source": [
        "## 2 起源\n",
        "RPC 这个概念术语在上世纪 80 年代由 Bruce Jay Nelson 提出。\n"
      ]
    },
    {
      "cell_type": "markdown",
      "metadata": {
        "pycharm": {
          "metadata": false
        },
        "slideshow": {
          "slide_type": "fragment"
        }
      },
      "source": [
        "## 3 目标\n",
        "RPC 的主要目标是让构建分布式计算（应用）更容易，在提供强大的远程调用能力时不损失本地调用的语义简洁性。\n"
      ]
    },
    {
      "cell_type": "markdown",
      "metadata": {
        "pycharm": {
          "metadata": false
        },
        "slideshow": {
          "slide_type": "slide"
        }
      },
      "source": [
        "## 4 分类\n",
        "－　同步调用\n",
        "－　异步调用\n",
        "\u003e如何客户端不关心调用返回结果，则变成单向异步调用。\n",
        "\n",
        "![图片1.png](https://i.loli.net/2019/04/22/5cbc944147f69.png)\n",
        "\n",
        "异步和同步的区分在于是否等待服务端执行完成并返回结果。\n"
      ]
    },
    {
      "cell_type": "markdown",
      "metadata": {
        "pycharm": {
          "metadata": false
        },
        "slideshow": {
          "slide_type": "slide"
        }
      },
      "source": [
        "## 5 结构\n"
      ]
    },
    {
      "cell_type": "markdown",
      "metadata": {
        "pycharm": {
          "metadata": false
        },
        "slideshow": {
          "slide_type": "slide"
        }
      },
      "source": [
        "### 5.1 模型\n",
        "\n",
        "- RFC1050\n",
        "\n",
        "\u003e  The Sun RPC protocol is based on the remote procedure call model,\n",
        "   which is similar to the local procedure call model.  In the local\n",
        "   case, the caller places arguments to a procedure in some well-\n",
        "   specified location (such as a register window).  It then transfers\n",
        "   control to the procedure, and eventually regains control.  At that\n",
        "   point, the results of the procedure are extracted from the well-\n",
        "   specified location, and the caller continues execution."
      ]
    },
    {
      "cell_type": "markdown",
      "metadata": {
        "slideshow": {
          "slide_type": "subslide"
        },
        "pycharm": {}
      },
      "source": [
        "\n",
        "\u003e  The remote procedure call model is similar.  One thread of control\n",
        "   logically winds through two processes: the caller\u0027s process, and a\n",
        "   server\u0027s process.  The caller process first sends a call message to\n",
        "   the server process and waits (blocks) for a reply message.  The call\n",
        "   message includes the procedure\u0027s parameters, and the reply message\n",
        "   includes the procedure\u0027s results.  Once the reply message is\n",
        "   received, the results of the procedure are extracted, and caller\u0027s\n",
        "   execution is resumed.\n",
        "\n",
        "\u003e  On the server side, a process is dormant awaiting the arrival of a\n",
        "   call message.  When one arrives, the server process extracts the\n",
        "   procedure\u0027s parameters, computes the results, sends a reply message,\n",
        "   and then awaits the next call message."
      ]
    },
    {
      "cell_type": "markdown",
      "metadata": {
        "slideshow": {
          "slide_type": "subslide"
        },
        "pycharm": {}
      },
      "source": [
        "- Ｎelson的论文\n",
        "\n",
        "    - User \n",
        "    - User-stub \n",
        "    - RPCRuntime \n",
        "    - Server-stub \n",
        "    - Server\n",
        "![](https://segmentfault.com/img/remote/1460000008550404)"
      ]
    },
    {
      "cell_type": "markdown",
      "metadata": {
        "pycharm": {
          "metadata": false
        },
        "slideshow": {
          "slide_type": "slide"
        }
      },
      "source": [
        "### 5.2 拆解"
      ]
    },
    {
      "cell_type": "markdown",
      "metadata": {
        "slideshow": {
          "slide_type": "subslide"
        },
        "pycharm": {}
      },
      "source": [
        "## RPC与LPC\n",
        "LPC，指与远程过程调用对应的本地过程调用，在linux环境下习惯称之为IPC，即进程间通信。\n",
        "\n",
        "linux中IPC有如下实现方式：\n",
        "- 管道\n",
        "- 共享内存\n",
        "- 信号量\n",
        "- Socket套接字\n",
        "- 信号（终端命令行程序常用）\n",
        "- 消息队列（内核中的链表，逐渐淘汰）\n"
      ]
    },
    {
      "cell_type": "markdown",
      "metadata": {
        "slideshow": {
          "slide_type": "subslide"
        },
        "pycharm": {}
      },
      "source": [
        "## RPC与分布式微服务"
      ]
    },
    {
      "cell_type": "markdown",
      "metadata": {
        "slideshow": {
          "slide_type": "subslide"
        },
        "pycharm": {}
      },
      "source": [
        "web服务的技术体系结构图：\n",
        "![](https://ketao1989.github.io/images/2016/12/web_service.png)"
      ]
    },
    {
      "cell_type": "markdown",
      "metadata": {
        "slideshow": {
          "slide_type": "subslide"
        },
        "pycharm": {}
      },
      "source": [
        "先看大名鼎鼎的Java RMI：\n",
        "![](https://ketao1989.github.io/images/2016/12/rmi.png)"
      ]
    },
    {
      "cell_type": "markdown",
      "metadata": {
        "slideshow": {
          "slide_type": "subslide"
        },
        "pycharm": {}
      },
      "source": [
        "一个通用的RPC架构可以简单描述如下：\n",
        "\u003e一般，远程过程调用RPC就是本地动态代理隐藏通信细节，通过组件序列化请求，走网络到服务端，执行真正的服务代码，然后将结果返回给客户端，反序列化数据给调用方法的过程。\n",
        "\n",
        "也就是奥利奥说的，RPC的本质就是**socket** + **动态代理**。"
      ]
    },
    {
      "cell_type": "markdown",
      "metadata": {
        "slideshow": {
          "slide_type": "subslide"
        },
        "pycharm": {}
      },
      "source": [
        "\n",
        "![](https://ketao1989.github.io/images/2016/12/rpc.png)"
      ]
    },
    {
      "cell_type": "markdown",
      "metadata": {
        "pycharm": {
          "metadata": false
        },
        "slideshow": {
          "slide_type": "slide"
        }
      },
      "source": [
        "## RPC与RESTfulAPI\n",
        "先看REST。\n",
        "![深度截图_选择区域_20190421233733.png](https://i.loli.net/2019/04/21/5cbc8e7dcced6.png)\n",
        "\n",
        "\n",
        "\u003e资料出处：\u003chttps://eggjs.org/zh-cn/basics/router.html#restful-%E9%A3%8E%E6%A0%BC%E7%9A%84-url-%E5%AE%9A%E4%B9%89\u003e\n",
        "\n"
      ]
    },
    {
      "cell_type": "markdown",
      "metadata": {
        "slideshow": {
          "slide_type": "fragment"
        },
        "pycharm": {}
      },
      "source": [
        "个人理解，REST中的`request.method`和`request.url.path`共同构成了RPC调用中的`远程方法`。特别的，REST中经常出现的`/api/v1`中的版本号，也和RPC协议中有关方法版本号的论述殊途同归。"
      ]
    },
    {
      "cell_type": "markdown",
      "metadata": {
        "pycharm": {
          "metadata": false
        },
        "slideshow": {
          "slide_type": "slide"
        }
      },
      "source": [
        "## RFC1050：RPC第一版，1988/04"
      ]
    },
    {
      "cell_type": "markdown",
      "metadata": {
        "slideshow": {
          "slide_type": "subslide"
        },
        "pycharm": {}
      },
      "source": [
        "与本地过程调用的差异：\n",
        "- Error handling: failures of the remote server or network must be handled when using remote procedure calls.\n",
        "\n",
        "- Global variables and side effects: since the server does not have access to the client\u0027s address space, hidden arguments cannot be\n",
        " passed as global variables or returned as side effects.\n",
        "\n",
        "- Performance:  remote procedures usually operate at one or more orders of magnitude slower than local procedure calls.\n",
        "\n",
        "- Authentication: since remote procedure calls can be transported\n",
        "over unsecured networks, authentication may be necessary.\n",
        "Authentication prevents one entity from masquerading as some other\n",
        "entity.\n",
        "\n",
        "\n",
        "RPC协议本身与**客户端服务端的绑定以及交互**是独立的。\n",
        "\u003eImplementors should think of the RPC protocol as the jump-subroutine\n",
        "   instruction (\"JSR\") of a network\n"
      ]
    },
    {
      "cell_type": "markdown",
      "metadata": {
        "slideshow": {
          "slide_type": "subslide"
        },
        "pycharm": {}
      },
      "source": [
        "The RPC protocol must provide:\n",
        "\n",
        "      (1) Unique specification of a procedure to be called.\n",
        "      (2) Provisions for matching response messages to request messages.\n",
        "      (3) Provisions for authenticating the caller to service and\n",
        "          vice-versa.\n",
        "          \n",
        "features worth supporting because of **protocol roll-over errors, implementation\n",
        "   bugs, user error, and network administration**\n",
        "   \n",
        "      (1) RPC protocol mismatches.\n",
        "      (2) Remote program protocol version mismatches.\n",
        "      (3) Protocol errors (such as misspecification of a procedure\u0027s\n",
        "          parameters).\n",
        "      (4) Reasons why remote authentication failed.\n",
        "      (5) Any other reasons why the desired procedure was not called."
      ]
    },
    {
      "cell_type": "markdown",
      "metadata": {
        "slideshow": {
          "slide_type": "subslide"
        },
        "pycharm": {}
      },
      "source": [
        "此外还定义了详细的\n",
        "- [RPC消息协议](https://tools.ietf.org/html/rfc1050#section-8)\n",
        "- [RPC认证协议](https://tools.ietf.org/html/rfc1050#section-9)\n",
        "\n",
        "一个比较直观的数据结构，**Unix Authentication**\n",
        "```c\n",
        " struct auth_unix {\n",
        "    unsigned int stamp;\n",
        "    string machinename\u003c255\u003e;\n",
        "    unsigned int uid;\n",
        "    unsigned int gid;\n",
        "    unsigned int gids\u003c10\u003e;\n",
        " };\n",
        "```\n",
        "接下来讲Unix认证的一些缺陷，以及应对之策[DES](https://www.ibm.com/support/knowledgecenter/en/ssw_aix_71/com.ibm.aix.progcomc/data_encr_std.htm)。\n",
        "\n",
        "总结来说，Sun公司使用TCP/UDP，以及[XDR(a standard for the description and encoding of data)](https://tools.ietf.org/html/rfc1014)实现了RPC协议。\n",
        "\n",
        "- RFC 1057: RPC 第二版 1988/06\n",
        "- RFC 1831: RPC 第二版 1995/08\n",
        "- RFC 5531: RPC 第二版 2009/02 (RFC正式稿）\n"
      ]
    },
    {
      "cell_type": "markdown",
      "metadata": {
        "pycharm": {
          "metadata": false
        },
        "slideshow": {
          "slide_type": "slide"
        }
      },
      "source": [
        "# gRPC"
      ]
    },
    {
      "cell_type": "markdown",
      "metadata": {
        "slideshow": {
          "slide_type": "slide"
        },
        "pycharm": {}
      },
      "source": [
        "## gRPC over HTTP2"
      ]
    },
    {
      "cell_type": "markdown",
      "metadata": {
        "slideshow": {
          "slide_type": "subslide"
        },
        "pycharm": {}
      },
      "source": [
        "### Request\n",
        "\n",
        "- Request → Request-Headers *Length-Prefixed-Message EOS\n",
        "\n",
        "```\n",
        "HEADERS (flags \u003d END_HEADERS)\n",
        ":method \u003d POST\n",
        ":scheme \u003d http\n",
        ":path \u003d /google.pubsub.v2.PublisherService/CreateTopic\n",
        ":authority \u003d pubsub.googleapis.com\n",
        "grpc-timeout \u003d 1S\n",
        "content-type \u003d application/grpc+proto\n",
        "grpc-encoding \u003d gzip\n",
        "authorization \u003d Bearer y235.wef315yfh138vh31hv93hv8h3v\n",
        "\n",
        "DATA (flags \u003d END_STREAM)\n",
        "\u003cLength-Prefixed Message\u003e\n",
        "```"
      ]
    },
    {
      "cell_type": "markdown",
      "metadata": {
        "slideshow": {
          "slide_type": "subslide"
        },
        "pycharm": {}
      },
      "source": [
        "### Response\n",
        "- Response → (Response-Headers *Length-Prefixed-Message Trailers) / Trailers-Only\n",
        "\n",
        "```\n",
        "HEADERS (flags \u003d END_HEADERS)\n",
        ":status \u003d 200\n",
        "grpc-encoding \u003d gzip\n",
        "content-type \u003d application/grpc+proto\n",
        "\n",
        "DATA\n",
        "\u003cLength-Prefixed Message\u003e\n",
        "\n",
        "HEADERS (flags \u003d END_STREAM, END_HEADERS)\n",
        "grpc-status \u003d 0 # OK\n",
        "trace-proto-bin \u003d jher831yy13JHy3hc\n",
        "```"
      ]
    },
    {
      "cell_type": "markdown",
      "metadata": {
        "pycharm": {
          "metadata": false
        },
        "slideshow": {
          "slide_type": "slide"
        }
      },
      "source": [
        "### HTTP2中的gRPC传输映射"
      ]
    },
    {
      "cell_type": "markdown",
      "metadata": {
        "slideshow": {
          "slide_type": "subslide"
        },
        "pycharm": {}
      },
      "source": [
        "- Stream ID\n",
        "\u003egRPC中每个调用都需要分配一个内部id，实际上就是http2中stream的id。而stream的id，只能保证在一个http2会话中唯一，如果一个进程处理多个http2会话，就不能保证唯一性了。\n",
        "\n",
        "- Data Frames\n",
        "\u003ehttp2数据帧的边界与**Length-Prefixed-Message**的边界是没有关联的。\n",
        "\n",
        "- Errors\n",
        "\u003egRPC的运行时错误，会在一个HEADERS帧（跟踪消息帧）中发给客户端。其中`grpc-status`字段是错误码，可以参考[HTTP2与gRPC错误码对照表](https://github.com/grpc/grpc/blob/master/doc/PROTOCOL-HTTP2.md#errors)。\n"
      ]
    },
    {
      "cell_type": "markdown",
      "metadata": {
        "slideshow": {
          "slide_type": "slide"
        },
        "pycharm": {}
      },
      "source": [
        "## gRPC的wireshark抓包"
      ]
    },
    {
      "cell_type": "markdown",
      "metadata": {
        "pycharm": {
          "metadata": false
        },
        "slideshow": {
          "slide_type": "fragment"
        }
      },
      "source": [
        "### 步骤\n",
        "#### 1. [配置wireshark抓包HTTP2](https://github.com/elixir-grpc/grpc/wiki/How-to-capture-HTTP2-packages-using-Wireshark)\n",
        "\n",
        "#### 2. 运行gRPC示例程序\n"
      ]
    },
    {
      "cell_type": "markdown",
      "metadata": {
        "slideshow": {
          "slide_type": "subslide"
        },
        "pycharm": {}
      },
      "source": [
        "### 3. 报文分析\n",
        "从最简单的`hello_world`开始，6个包：\n",
        "1. Magic, SETTINGS, WINDOW_UPDATE, PING \n",
        "\u003e客户端发给服务端的。\n",
        "\u003eSeq: 1, Ack: 1 （一次握手）\n",
        "\n",
        "2. HEADERS, WINDOW_UPDATE, DATA, WINDOW_UPDATE\n",
        "\u003e客户端发给服务端的。正常http报文内容。调用函数名在headers里面，字段为path。\n",
        "\u003eSeq: 100, Ack: 1"
      ]
    },
    {
      "cell_type": "markdown",
      "metadata": {
        "slideshow": {
          "slide_type": "subslide"
        },
        "pycharm": {}
      },
      "source": [
        "3. SETTINGS,WINDOW_UPDATE,PING\n",
        "\u003e服务端发给客户端的。\n",
        "\u003eSeq: 1  Ack: 411 (二次握手）\n",
        "\n",
        "4. PING,SETTINGS,WINDOW_UPDATE\n",
        "\u003e服务端发给客户端的。\n",
        "\u003eSeq: 64, Ack: 411\n",
        "\n",
        "5. PING,SETTINGS\n",
        "\u003e客户端发给服务端的。\n",
        "\u003eSeq: 411 Ack: 103 （三次握手）\n",
        "\n",
        "6. HEADERS,DATA,HEADERS\n",
        "\u003e服务端发给客户端的response。第一个headers是普通的http response headers，data之后的headers是grpc的status和message。\n",
        "\u003eSeq: 103 ACK: 437\n"
      ]
    },
    {
      "cell_type": "markdown",
      "metadata": {
        "slideshow": {
          "slide_type": "subslide"
        },
        "pycharm": {}
      },
      "source": [
        "\n",
        "前面所说的Trailers就是紧跟响应体的这个headers帧里的**Status**和**Status-Message**。如果程序报错的话，异常信息就在这里。\n",
        "\n",
        "比如：\n",
        "![深度截图_选择区域_20190421183649.png](https://i.loli.net/2019/04/21/5cbc47dd128ff.png)\n"
      ]
    },
    {
      "cell_type": "markdown",
      "metadata": {
        "slideshow": {
          "slide_type": "subslide"
        },
        "pycharm": {}
      },
      "source": [
        "### 多路复用 multiplexing"
      ]
    },
    {
      "cell_type": "markdown",
      "metadata": {
        "pycharm": {}
      },
      "source": [
        "先看一张图。\n",
        "![](https://qiniu.nihaoshijie.com.cn/kp2.png)"
      ]
    },
    {
      "cell_type": "markdown",
      "metadata": {
        "slideshow": {
          "slide_type": "subslide"
        },
        "pycharm": {}
      },
      "source": [
        "\n",
        "如果需要**同时/并行/串行**调用多个服务，通常怎么做（如何通过提高并行度从而提高性能）？\n",
        "\n",
        "- 多线程\n",
        "- 异步网络I/O\n"
      ]
    },
    {
      "cell_type": "markdown",
      "metadata": {
        "slideshow": {
          "slide_type": "subslide"
        },
        "pycharm": {}
      },
      "source": [
        "### 流 streaming\n",
        "服务类型可以分为4类：\n",
        "1. Unary RPCs\n",
        "客户端发送一个请求给服务端，从服务端获取一个应答，就像一次普通的函数调用。\n",
        "\n",
        "2. Server streaming RPCs\n",
        "客户端发送一个请求给服务端，可获取一个数据流用来读取一系列消息。客户端从返回的数据流里一直读取直到没有更多消息为止。\n",
        "\n",
        "3. Client streaming RPCs\n",
        "客户端用提供的一个数据流写入并发送一系列消息给服务端。一旦客户端完成消息写入，就等待服务端读取这些消息并返回应答。\n",
        "\n",
        "4. Bidirectional streaming RPCs\n",
        "两边都可以分别通过一个读写数据流来发送一系列消息。这两个数据流操作是相互独立的，所以客户端和服务端能按其希望的任意顺序读写，例如：服务端可以在写应答前等待所有的客户端消息，或者它可以先读一个消息再写一个消息，或者是读写相结合的其他方式。每个数据流里消息的顺序会被保持。"
      ]
    },
    {
      "cell_type": "markdown",
      "metadata": {
        "slideshow": {
          "slide_type": "subslide"
        },
        "pycharm": {}
      },
      "source": [
        "### cancellation\n",
        "语言相关，也与I/O模型相关，通常使用`Context`实现，读到EOF即认为是CACEL，从数据包看就是连接以PING-PONG结束。\n",
        "\u003eyou can use io.grpc.Context to cancel any stub type. For blocking you can interrupt the thread; for future you can cancel the future; for async you can use ClientCallStreamObserver.cancel() by casting the returned StreamObserver to ClientCallStreamObserver or implementing having your passed-in StreamObserver implement ClientResponseObserver. [How to cancel a GRPC Server streaming call](https://github.com/grpc/grpc-java/issues/3095)\n",
        "\n",
        "它不是一个\"撤销\"， 在取消前已经完成的不会被回滚。当然，通过同步调用的 RPC 不能被取消，因为直到 RPC 结束前，程序控制权还没有交还给应用。"
      ]
    },
    {
      "cell_type": "markdown",
      "metadata": {
        "slideshow": {
          "slide_type": "subslide"
        },
        "pycharm": {}
      },
      "source": "### Deadline/Timeouts\n\n对应于HTTP2的是RST_STREAM帧。\n\ngRPC的cancellation不是撤销，在撤销前已经完成的不会被回滚。当然，通过同步调用的 RPC 不能被取消，因为直到 RPC 结束前，程序控制权还没有交还给应用。\n\n### Retry Design\n\n重试的**源头**，可能是Stub层传输有问题，也可能是用户程序代码有问题，总而言之，重试策略是与底层http2协议关系不大的。\n\n详细文档可以参考：[gRPC Retry Design](https://github.com/grpc/proposal/blob/master/A6-client-retries.md)。"
    },
    {
      "cell_type": "markdown",
      "metadata": {
        "slideshow": {
          "slide_type": "slide"
        },
        "pycharm": {}
      },
      "source": [
        "### Protobuf\n",
        "提问：protobuf和json比较如何？"
      ]
    },
    {
      "cell_type": "markdown",
      "metadata": {
        "slideshow": {
          "slide_type": "subslide"
        },
        "pycharm": {}
      },
      "source": [
        "\n",
        "- 序列化与反序列化\n",
        "![](https://static001.infoq.cn/resource/image/71/b4/71b5ccde81d13608af65ee077f7c4bb4.jpg)\n",
        "\u003e数据来源：[Protobuf 有没有比 JSON 快 5 倍？](https://www.infoq.cn/article/json-is-5-times-faster-than-protobuf)\n"
      ]
    },
    {
      "cell_type": "markdown",
      "metadata": {
        "slideshow": {
          "slide_type": "subslide"
        },
        "pycharm": {}
      },
      "source": [
        "\n",
        "- 传输体积\n",
        "比json和xml都小。\n",
        "\n",
        "![](http://ngudream.com/2017/08/15/java-protobuf-superior/fed19654-3ea0-3e49-b5ab-4a722a3c655f.png)\n",
        "![](http://ngudream.com/2017/08/15/java-protobuf-superior/9369a50d-f9ea-3f01-bd1f-fabba514dbec.png)\n",
        "\n",
        "protobuf采用Zigzag编码，该编码使用了Varint技术。Varint 是一种紧凑的表示数字的方法。它用一个或多个字节来表示一个数字，值越小的数字使用越少的字节数。有点像UTF-8对吧？"
      ]
    },
    {
      "cell_type": "markdown",
      "metadata": {
        "pycharm": {
          "metadata": false
        },
        "slideshow": {
          "slide_type": "slide"
        }
      },
      "source": [
        "### gRPC的缺点\n",
        "- 一次gRPC调用需要解码两次，一次是header，一次是data\n",
        "- 尽管HPAC可以压缩header，但是对于确定的调用，其实一个int就够了（对应于RFC1050中的program number）。"
      ]
    },
    {
      "cell_type": "markdown",
      "metadata": {
        "pycharm": {
          "metadata": false
        },
        "slideshow": {
          "slide_type": "slide"
        }
      },
      "source": "## 参考资料\n- [深入了解 gRPC：协议](https://www.jianshu.com/p/48ad37e8b4ed)\n- [深入浅出RPC原理](https://ketao1989.github.io/2016/12/10/rpc-theory-in-action/)\n- [RPC 的概念模型与实现解析](https://segmentfault.com/a/1190000005178084)\n- [一个爬虫工程师的技术博客：gRPC](http://maqiangthunder.github.io/2016/07/04/%E6%9D%82/gRPC/)\n- [HTTP/2 and gRPC — The Next Generation of Microservices Interactions]()\n- [HTTP2详解](https://juejin.im/post/5b88a4f56fb9a01a0b31a67e)\n- [dubbo协议](http://dubbo.apache.org/zh-cn/docs/user/references/protocol/dubbo.html)\n- [HTTP/2 幕后原理](https://www.ibm.com/developerworks/cn/web/wa-http2-under-the-hood/index.html)\n- [抓包gRPC的细节及分析](https://jingwei.link/2018/10/02/grpc-wireshark-analysis.html)\n- [HPACK: Header Compression for HTTP/2](https://httpwg.org/specs/rfc7541.html)\n- [http-parser](https://github.com/nodejs/http-parser)\n- [gRPC的HTTP2实现](https://ninokop.github.io/2018/06/18/gRPC%E7%9A%84HTTP2%E5%AE%9E%E7%8E%B0/)\n- [思考gRPC ：为什么是HTTP/2](http://hengyunabc.github.io/thinking-about-grpc-http2/)\n- [HTTP2 协议上的 gRPC](https://doc.oschina.net/grpc?t\u003d58011) (原文[gRPC over HTTP2](https://github.com/grpc/grpc/blob/master/doc/PROTOCOL-HTTP2.md)\n- [Protobuf 有没有比 JSON 快 5 倍？](https://www.infoq.cn/article/json-is-5-times-faster-than-protobuf)\n- [Protobuf 的优势在哪里？](http://ngudream.com/2017/08/15/java-protobuf-superior/)\n- [Introducing gRPC Support with NGINX 1.13.10](https://www.nginx.com/blog/nginx-1-13-10-grpc/)\n- [grpc实现一个较复杂的聊天室](https://my.oschina.net/tuxpy/blog/1645030)\n- [NFS 文件系统源代码剖析](https://www.ibm.com/developerworks/cn/linux/l-cn-nfs/index.html)\n- [晁岳攀---基于go的 rpc框架实践](http://www.10tiao.com/html/528/201809/2653371218/1.html)"
    }
  ],
  "metadata": {
    "celltoolbar": "Slideshow",
    "kernelspec": {
      "display_name": "Python 3",
      "language": "python",
      "name": "python3"
    },
    "language_info": {
      "codemirror_mode": {
        "name": "ipython",
        "version": 3
      },
      "file_extension": ".py",
      "mimetype": "text/x-python",
      "name": "python",
      "nbconvert_exporter": "python",
      "pygments_lexer": "ipython3",
      "version": "3.6.7"
    },
    "stem_cell": {
      "cell_type": "raw",
      "metadata": {
        "pycharm": {
          "metadata": false
        }
      },
      "source": ""
    }
  },
  "nbformat": 4,
  "nbformat_minor": 1
}